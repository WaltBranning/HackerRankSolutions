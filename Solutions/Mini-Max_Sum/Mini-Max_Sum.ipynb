{
 "cells": [
  {
   "attachments": {},
   "cell_type": "markdown",
   "metadata": {},
   "source": [
    "# HackerRank Problem: Mini-Max Sum \n",
    "Given five positive integers, find the minimum and maximum values that can be calculated by summing exactly four of the five integers. Then print the respective minimum and maximum values as a single line of two space-separated long integers."
   ]
  },
  {
   "cell_type": "code",
   "execution_count": 1,
   "metadata": {},
   "outputs": [],
   "source": [
    "def miniMaxSum(arr):\n",
    "    arr.sort()\n",
    "    min_sum = sum(arr[:-1])\n",
    "    max_sum = sum(arr[1:])\n",
    "    return (min_sum, max_sum)"
   ]
  },
  {
   "attachments": {},
   "cell_type": "markdown",
   "metadata": {},
   "source": [
    "### Test Cases"
   ]
  },
  {
   "cell_type": "code",
   "execution_count": 5,
   "metadata": {},
   "outputs": [
    {
     "data": {
      "text/plain": [
       "[(7622, 15527),\n",
       " (19890, 27721),\n",
       " (26035, 30745),\n",
       " (21757, 29602),\n",
       " (15733, 24966),\n",
       " (17309, 22475),\n",
       " (11835, 20213),\n",
       " (16556, 22828),\n",
       " (18317, 25043),\n",
       " (22695, 25106),\n",
       " (23803, 30102),\n",
       " (8940, 13853),\n",
       " (19435, 24443),\n",
       " (16295, 21628),\n",
       " (18642, 25811),\n",
       " (13503, 20609),\n",
       " (10095, 18266),\n",
       " (18543, 24000),\n",
       " (29285, 32765),\n",
       " (24585, 29502),\n",
       " (15835, 22992),\n",
       " (17942, 24042),\n",
       " (19340, 27233),\n",
       " (20591, 29488),\n",
       " (28827, 37008),\n",
       " (17954, 24468),\n",
       " (11916, 16421),\n",
       " (12372, 17223),\n",
       " (11334, 20598),\n",
       " (21674, 27360),\n",
       " (16275, 22409),\n",
       " (20685, 26377),\n",
       " (9470, 17197),\n",
       " (9456, 12442),\n",
       " (25540, 31024),\n",
       " (14024, 23695),\n",
       " (16685, 25429),\n",
       " (12266, 18351),\n",
       " (20215, 26726),\n",
       " (24383, 30792),\n",
       " (17785, 26228),\n",
       " (7782, 14550),\n",
       " (17937, 27095),\n",
       " (17040, 24456),\n",
       " (21882, 30244),\n",
       " (14960, 21324),\n",
       " (18131, 22536),\n",
       " (20590, 29547),\n",
       " (17453, 25593),\n",
       " (22764, 29722),\n",
       " (7460, 14893),\n",
       " (7624, 15993),\n",
       " (28207, 32506),\n",
       " (6058, 10834),\n",
       " (21340, 27715),\n",
       " (15681, 23145),\n",
       " (15621, 22371),\n",
       " (9506, 15821),\n",
       " (9472, 17883),\n",
       " (11811, 18424),\n",
       " (18303, 23655),\n",
       " (17969, 23752),\n",
       " (21880, 29528),\n",
       " (18934, 26527),\n",
       " (20592, 28746),\n",
       " (20500, 26791),\n",
       " (19594, 27155),\n",
       " (12557, 19685),\n",
       " (12220, 19191),\n",
       " (15996, 22689),\n",
       " (13914, 18282),\n",
       " (25832, 31083),\n",
       " (9526, 15555),\n",
       " (15132, 17280),\n",
       " (25633, 32297),\n",
       " (21236, 29584),\n",
       " (18334, 26673),\n",
       " (15155, 20128),\n",
       " (17297, 23663),\n",
       " (24192, 32903),\n",
       " (13884, 20408),\n",
       " (22190, 31700),\n",
       " (4539, 7210),\n",
       " (12085, 21001),\n",
       " (19846, 27701),\n",
       " (22191, 28859),\n",
       " (13950, 22941),\n",
       " (23163, 31170),\n",
       " (7934, 15053),\n",
       " (22639, 28125),\n",
       " (21171, 27219),\n",
       " (20975, 26977),\n",
       " (22318, 29585),\n",
       " (23263, 30592),\n",
       " (19210, 25946),\n",
       " (14982, 24788),\n",
       " (23469, 29383),\n",
       " (15505, 22751),\n",
       " (15878, 19878),\n",
       " (16531, 25203)]"
      ]
     },
     "execution_count": 5,
     "metadata": {},
     "output_type": "execute_result"
    }
   ],
   "source": [
    "from random import randrange\n",
    "test_arr  = lambda: [randrange(0, 10000) for i in range(0,5)]\n",
    "test_sums = [miniMaxSum(test_arr()) for i in range(100)]\n",
    "test_sums"
   ]
  }
 ],
 "metadata": {
  "kernelspec": {
   "display_name": "Python 3",
   "language": "python",
   "name": "python3"
  },
  "language_info": {
   "codemirror_mode": {
    "name": "ipython",
    "version": 3
   },
   "file_extension": ".py",
   "mimetype": "text/x-python",
   "name": "python",
   "nbconvert_exporter": "python",
   "pygments_lexer": "ipython3",
   "version": "3.10.6"
  },
  "orig_nbformat": 4
 },
 "nbformat": 4,
 "nbformat_minor": 2
}
