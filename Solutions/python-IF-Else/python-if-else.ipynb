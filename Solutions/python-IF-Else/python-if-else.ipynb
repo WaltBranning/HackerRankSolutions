{
 "cells": [
  {
   "attachments": {},
   "cell_type": "markdown",
   "metadata": {},
   "source": [
    "# Python if-else problem\n",
    "Only providing a few test case samples, for this simple script."
   ]
  },
  {
   "cell_type": "code",
   "execution_count": 14,
   "metadata": {},
   "outputs": [
    {
     "name": "stdout",
     "output_type": "stream",
     "text": [
      "Not Weird\n",
      "Weird\n",
      "Weird\n",
      "Weird\n",
      "Weird\n",
      "Weird\n",
      "Not Weird\n",
      "Weird\n",
      "Not Weird\n",
      "Weird\n",
      "Not Weird\n",
      "Weird\n",
      "Weird\n",
      "Weird\n",
      "Weird\n",
      "Weird\n",
      "Weird\n",
      "Weird\n",
      "Weird\n",
      "Not Weird\n",
      "Weird\n"
     ]
    }
   ],
   "source": [
    "from random import randrange as rs_int\n",
    "\n",
    "def run_test_case(n):\n",
    "    if n%2 > 0: \n",
    "        print('Weird')\n",
    "    elif n%2 == 0 and n in range(6, 21):\n",
    "        print('Weird')\n",
    "    elif n%2 == 0 and n in range(2, 6):\n",
    "        print('Not Weird')\n",
    "    elif n%2 == 0 and n > 20:\n",
    "        print('Not Weird')\n",
    "\n",
    "test_cases = [run_test_case(rs_int(-2, 25)) for i in range(1, 25)]\n"
   ]
  }
 ],
 "metadata": {
  "kernelspec": {
   "display_name": "Python 3",
   "language": "python",
   "name": "python3"
  },
  "language_info": {
   "codemirror_mode": {
    "name": "ipython",
    "version": 3
   },
   "file_extension": ".py",
   "mimetype": "text/x-python",
   "name": "python",
   "nbconvert_exporter": "python",
   "pygments_lexer": "ipython3",
   "version": "3.10.6"
  },
  "orig_nbformat": 4
 },
 "nbformat": 4,
 "nbformat_minor": 2
}
