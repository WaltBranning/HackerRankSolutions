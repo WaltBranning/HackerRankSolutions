{
 "cells": [
  {
   "attachments": {},
   "cell_type": "markdown",
   "metadata": {},
   "source": [
    "### Will run with some basic test cases for a basic function.\n"
   ]
  },
  {
   "cell_type": "code",
   "execution_count": 8,
   "metadata": {},
   "outputs": [
    {
     "name": "stdout",
     "output_type": "stream",
     "text": [
      "Not Leap years: 1533\n",
      "Leap years: 491\n"
     ]
    }
   ],
   "source": [
    "def is_leap(year):\n",
    "    if year%400 == 0: return True\n",
    "    elif year%100 == 0: return False\n",
    "    elif year%4 == 0:  return True\n",
    "    return False\n",
    "\n",
    "\n",
    "# Set up test cases\n",
    "        \n",
    "test = [is_leap(i) for i in range(0, 2024)]\n",
    "\n",
    "for i in set(test): \n",
    "    if i is True: print(f'Leap years: {test.count(i)}')\n",
    "    else: print(f'Not Leap years: {test.count(i)}')\n"
   ]
  }
 ],
 "metadata": {
  "kernelspec": {
   "display_name": "Python 3",
   "language": "python",
   "name": "python3"
  },
  "language_info": {
   "codemirror_mode": {
    "name": "ipython",
    "version": 3
   },
   "file_extension": ".py",
   "mimetype": "text/x-python",
   "name": "python",
   "nbconvert_exporter": "python",
   "pygments_lexer": "ipython3",
   "version": "3.10.6"
  },
  "orig_nbformat": 4
 },
 "nbformat": 4,
 "nbformat_minor": 2
}
