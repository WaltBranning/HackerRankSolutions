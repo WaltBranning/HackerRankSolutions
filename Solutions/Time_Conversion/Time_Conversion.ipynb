{
 "cells": [
  {
   "attachments": {},
   "cell_type": "markdown",
   "metadata": {},
   "source": [
    "# HackerRank Problem: Time Conversion\n",
    "Given a time in 12-hour AM/PM format, convert it to military (24-hour) time."
   ]
  },
  {
   "cell_type": "code",
   "execution_count": 134,
   "metadata": {},
   "outputs": [],
   "source": [
    "# Solution\n",
    "def timeConversion(s):\n",
    "    # Write your code here\n",
    "    a_p = s[-2:]\n",
    "    h, m, sec = s.split(':')\n",
    "    if h == '12' and a_p == 'AM':\n",
    "        h = '00'\n",
    "    elif a_p == 'PM' and h != '12':\n",
    "        h = str(int(h) + 12)\n",
    "    \n",
    "    return ':'.join([h,m,sec[:2]])"
   ]
  },
  {
   "attachments": {},
   "cell_type": "markdown",
   "metadata": {},
   "source": [
    "# Test Cases"
   ]
  },
  {
   "cell_type": "code",
   "execution_count": 135,
   "metadata": {},
   "outputs": [
    {
     "name": "stdout",
     "output_type": "stream",
     "text": [
      "12hr 03:02:14AM - 24hr 03:02:14\n",
      "12hr 09:38:27PM - 24hr 21:38:27\n",
      "12hr 05:09:57PM - 24hr 17:09:57\n",
      "12hr 09:59:58PM - 24hr 21:59:58\n",
      "12hr 03:42:51PM - 24hr 15:42:51\n",
      "12hr 08:36:14AM - 24hr 08:36:14\n",
      "12hr 12:58:08AM - 24hr 00:58:08\n",
      "12hr 04:56:09AM - 24hr 04:56:09\n",
      "12hr 07:09:26PM - 24hr 19:09:26\n",
      "12hr 02:13:22AM - 24hr 02:13:22\n",
      "12hr 07:09:42PM - 24hr 19:09:42\n",
      "12hr 03:00:16AM - 24hr 03:00:16\n",
      "12hr 05:12:36PM - 24hr 17:12:36\n",
      "12hr 06:35:36AM - 24hr 06:35:36\n",
      "12hr 03:48:28PM - 24hr 15:48:28\n",
      "12hr 01:06:16AM - 24hr 01:06:16\n",
      "12hr 09:01:05PM - 24hr 21:01:05\n",
      "12hr 08:00:48AM - 24hr 08:00:48\n",
      "12hr 09:02:35AM - 24hr 09:02:35\n",
      "12hr 08:08:05AM - 24hr 08:08:05\n",
      "12hr 06:12:41AM - 24hr 06:12:41\n",
      "12hr 06:00:50PM - 24hr 18:00:50\n",
      "12hr 04:45:40AM - 24hr 04:45:40\n",
      "12hr 02:34:30AM - 24hr 02:34:30\n",
      "12hr 12:15:11AM - 24hr 00:15:11\n",
      "12hr 12:12:00PM - 24hr 12:12:00\n",
      "12hr 05:24:55PM - 24hr 17:24:55\n",
      "12hr 03:07:16AM - 24hr 03:07:16\n",
      "12hr 08:25:19PM - 24hr 20:25:19\n",
      "12hr 12:59:58AM - 24hr 00:59:58\n",
      "12hr 05:14:09AM - 24hr 05:14:09\n",
      "12hr 07:05:07PM - 24hr 19:05:07\n",
      "12hr 02:09:54PM - 24hr 14:09:54\n",
      "12hr 11:49:30AM - 24hr 11:49:30\n",
      "12hr 04:30:14PM - 24hr 16:30:14\n",
      "12hr 07:35:31PM - 24hr 19:35:31\n",
      "12hr 04:22:47PM - 24hr 16:22:47\n",
      "12hr 06:56:46AM - 24hr 06:56:46\n",
      "12hr 02:56:38AM - 24hr 02:56:38\n",
      "12hr 07:56:59PM - 24hr 19:56:59\n",
      "12hr 11:03:56PM - 24hr 23:03:56\n",
      "12hr 05:54:23PM - 24hr 17:54:23\n",
      "12hr 12:12:52AM - 24hr 00:12:52\n",
      "12hr 09:46:51PM - 24hr 21:46:51\n",
      "12hr 01:36:25PM - 24hr 13:36:25\n",
      "12hr 11:51:37PM - 24hr 23:51:37\n",
      "12hr 12:52:36PM - 24hr 12:52:36\n",
      "12hr 03:26:13AM - 24hr 03:26:13\n",
      "12hr 01:57:25AM - 24hr 01:57:25\n",
      "12hr 09:02:28PM - 24hr 21:02:28\n"
     ]
    }
   ],
   "source": [
    "from random import randint\n",
    "\n",
    "make_two = lambda x: f'0{x}' if len(x) == 1 else x\n",
    "hours = [make_two(str(i)) for i in range(1, 13)]\n",
    "mins = [make_two(str(i)) for i in range(0, 60)]\n",
    "ap = ['AM', 'PM']\n",
    "get_parts = lambda h, m, s, t:':'.join([hours[h], mins[m], f'{mins[s]}{ap[t]}'])\n",
    "create_rands = lambda: [randint(0,11), randint(0,59), randint(0,59), randint(0,1)]\n",
    "\n",
    "test_cases = [get_parts(*create_rands()) for i in range(50)]\n",
    "test_results = map(timeConversion, test_cases)\n",
    "for orig, new in zip(test_cases, test_results): print(f'12hr {orig} - 24hr {new}')\n",
    "\n",
    "\n",
    "\n"
   ]
  }
 ],
 "metadata": {
  "kernelspec": {
   "display_name": "Python 3",
   "language": "python",
   "name": "python3"
  },
  "language_info": {
   "codemirror_mode": {
    "name": "ipython",
    "version": 3
   },
   "file_extension": ".py",
   "mimetype": "text/x-python",
   "name": "python",
   "nbconvert_exporter": "python",
   "pygments_lexer": "ipython3",
   "version": "3.10.6"
  },
  "orig_nbformat": 4
 },
 "nbformat": 4,
 "nbformat_minor": 2
}
